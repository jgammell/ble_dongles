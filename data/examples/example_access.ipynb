{
  "nbformat": 4,
  "nbformat_minor": 0,
  "metadata": {
    "colab": {
      "name": "example_access.ipynb",
      "provenance": [],
      "authorship_tag": "ABX9TyPPXNtP3weWdy/C7aFkAf1N",
      "include_colab_link": true
    },
    "kernelspec": {
      "name": "python3",
      "display_name": "Python 3"
    }
  },
  "cells": [
    {
      "cell_type": "markdown",
      "metadata": {
        "id": "view-in-github",
        "colab_type": "text"
      },
      "source": [
        "<a href=\"https://colab.research.google.com/github/saewoonam/ble_dongles/blob/master/data/examples/example_access.ipynb\" target=\"_parent\"><img src=\"https://colab.research.google.com/assets/colab-badge.svg\" alt=\"Open In Colab\"/></a>"
      ]
    },
    {
      "cell_type": "code",
      "metadata": {
        "id": "lIVj1DnwGBt9",
        "colab_type": "code",
        "colab": {}
      },
      "source": [
        "import numpy as np\n",
        "import plotly.graph_objects as go\n",
        "import requests\n",
        "import json\n",
        "import datetime\n",
        "import csv\n",
        "import codecs\n",
        "import urllib\n",
        "import matplotlib.pyplot as plt\n",
        "import pandas as pd"
      ],
      "execution_count": 0,
      "outputs": []
    },
    {
      "cell_type": "code",
      "metadata": {
        "id": "RAEYrbV2Lrtg",
        "colab_type": "code",
        "colab": {}
      },
      "source": [
        "url = 'https://raw.githubusercontent.com/saewoonam/ble_dongles/master/data/example/ch_mask.data'\n",
        "df = pd.read_csv(url, error_bad_lines=False)"
      ],
      "execution_count": 0,
      "outputs": []
    },
    {
      "cell_type": "code",
      "metadata": {
        "id": "XJE9EFlILzQU",
        "colab_type": "code",
        "colab": {}
      },
      "source": [
        "timestamp = df['local_time']\n",
        "rssi = df[' rssi']\n",
        "rpi = df[' remote_adv']"
      ],
      "execution_count": 0,
      "outputs": []
    },
    {
      "cell_type": "code",
      "metadata": {
        "id": "QVEKFncgOEOH",
        "colab_type": "code",
        "colab": {}
      },
      "source": [
        "def plot_rssi(timestamp, rssi, rpi):\n",
        "    # compute histogram fast\n",
        "    hist = np.array(np.unique(rssi, return_counts=True)).T\n",
        "\n",
        "\n",
        "    \n",
        "    # definitions for the axes\n",
        "    left, width = 0.1, 0.65\n",
        "    bottom, height = 0.1, 0.65\n",
        "    spacing = 0.005\n",
        "\n",
        "\n",
        "    rect_scatter = [left, bottom, width, height]\n",
        "    rect_histy = [left + width + spacing, bottom, 0.2, height]\n",
        "\n",
        "    # start with a rectangular Figure\n",
        "    plt.figure(figsize=(16, 8))\n",
        "\n",
        "    ax_scatter = plt.axes(rect_scatter)\n",
        "    ax_scatter.tick_params(direction='in', top=True, right=True)\n",
        "\n",
        "    ax_histy = plt.axes(rect_histy)\n",
        "    ax_histy.tick_params(direction='in', labelleft=False)\n",
        "\n",
        "    ch37_bool = [];\n",
        "    ch38_bool = [];\n",
        "    ch39_bool = [];\n",
        "    for r in rpi:\n",
        "        ch37_bool.append(r[-6]=='C')\n",
        "        ch38_bool.append(r[-6]=='A')\n",
        "        ch39_bool.append(r[-6]=='6')\n",
        "    ax_scatter.plot(timestamp[ch37_bool], rssi[ch37_bool]-0.2,'b.',  markersize=.1)\n",
        "    ax_scatter.plot(timestamp[ch38_bool], rssi[ch38_bool],'g.',  markersize=.1)\n",
        "    ax_scatter.plot(timestamp[ch39_bool], rssi[ch39_bool]+0.2,'r.',  markersize=.1)\n",
        "    hist37 = np.array(np.unique(rssi[ch37_bool], return_counts=True)).T\n",
        "    hist38 = np.array(np.unique(rssi[ch38_bool], return_counts=True)).T\n",
        "    hist39 = np.array(np.unique(rssi[ch39_bool], return_counts=True)).T\n",
        "\n",
        "\n",
        "\n",
        "    ax_histy.barh(hist[:,0], hist[:,1])\n",
        "    ax_histy.set_ylim(ax_scatter.get_ylim())\n",
        "    return ax_scatter, ax_histy"
      ],
      "execution_count": 0,
      "outputs": []
    },
    {
      "cell_type": "code",
      "metadata": {
        "id": "yh_1tmFYOed9",
        "colab_type": "code",
        "outputId": "d71ec02a-4a6a-492f-be7f-e8cb9784e874",
        "colab": {
          "base_uri": "https://localhost:8080/",
          "height": 466
        }
      },
      "source": [
        "plot_rssi(timestamp, rssi, rpi)"
      ],
      "execution_count": 0,
      "outputs": [
        {
          "output_type": "execute_result",
          "data": {
            "text/plain": [
              "(<matplotlib.axes._axes.Axes at 0x7f079c81d748>,\n",
              " <matplotlib.axes._axes.Axes at 0x7f079c7bbba8>)"
            ]
          },
          "metadata": {
            "tags": []
          },
          "execution_count": 5
        },
        {
          "output_type": "display_data",
          "data": {
            "image/png": "[encoded data removed]",
            "text/plain": [
              "<Figure size 1152x576 with 2 Axes>"
            ]
          },
          "metadata": {
            "tags": [],
            "needs_background": "light"
          }
        }
      ]
    }
  ]
}